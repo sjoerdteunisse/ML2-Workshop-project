{
  "nbformat": 4,
  "nbformat_minor": 0,
  "metadata": {
    "colab": {
      "name": "Countries of the world.ipynb",
      "provenance": [],
      "authorship_tag": "ABX9TyMNM2zIz95IWurPOrUkGZ4x",
      "include_colab_link": true
    },
    "kernelspec": {
      "name": "python3",
      "display_name": "Python 3"
    }
  },
  "cells": [
    {
      "cell_type": "markdown",
      "metadata": {
        "id": "view-in-github",
        "colab_type": "text"
      },
      "source": [
        "<a href=\"https://colab.research.google.com/github/sjoerdteunisse/ML2-Workshop-project/blob/main/Countries_of_the_world.ipynb\" target=\"_parent\"><img src=\"https://colab.research.google.com/assets/colab-badge.svg\" alt=\"Open In Colab\"/></a>"
      ]
    },
    {
      "cell_type": "markdown",
      "metadata": {
        "id": "vyefx2UVf3w4",
        "colab_type": "text"
      },
      "source": [
        "# Countries of the world ML project"
      ]
    },
    {
      "cell_type": "code",
      "metadata": {
        "id": "DnfpCIwQf3Go",
        "colab_type": "code",
        "colab": {}
      },
      "source": [
        ""
      ],
      "execution_count": null,
      "outputs": []
    }
  ]
}